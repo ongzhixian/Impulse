{
    "metadata": {
        "kernelspec": {
            "name": "python3",
            "display_name": "Python 3",
            "language": "python"
        },
        "language_info": {
            "name": "python",
            "version": "3.7.7",
            "mimetype": "text/x-python",
            "codemirror_mode": {
                "name": "ipython",
                "version": 3
            },
            "pygments_lexer": "ipython3",
            "nbconvert_exporter": "python",
            "file_extension": ".py"
        }
    },
    "nbformat_minor": 2,
    "nbformat": 4,
    "cells": [
        {
            "cell_type": "markdown",
            "source": [
                "**Generic**"
            ],
            "metadata": {
                "azdata_cell_guid": "55470da0-ec7e-4420-b932-8912d37fb953"
            }
        },
        {
            "cell_type": "code",
            "source": [
                "# Imports\r\n",
                "import sqlite3\r\n",
                "from impulse_sqlite3 import create_tag_table\r\n",
                "\r\n",
                "sqlitedb_path = \"C:/Users/zhixian/Documents/PowerShell/impulse.sqlite3\""
            ],
            "metadata": {
                "azdata_cell_guid": "c05db39b-7558-4425-99d4-6a92999c6f6d",
                "tags": []
            },
            "outputs": [],
            "execution_count": 1
        },
        {
            "cell_type": "code",
            "source": [
                "from impulse_sqlite3 import create_tag_table\r\n",
                "create_tag_table(sqlitedb_path)"
            ],
            "metadata": {
                "azdata_cell_guid": "4b03f8d4-0a5f-447c-8293-d6972ccca8bd",
                "tags": [
                    "hide_input"
                ]
            },
            "outputs": [],
            "execution_count": 2
        },
        {
            "cell_type": "code",
            "source": [
                "def create_table():\r\n",
                "    conn = sqlite3.connect(sqlitedb_path)\r\n",
                "\r\n",
                "    c = conn.cursor()\r\n",
                "\r\n",
                "    # Create table\r\n",
                "    c.execute('''CREATE TABLE stocks (date text, trans text, symbol text, qty real, price real)''')\r\n",
                "\r\n",
                "    # Save (commit) the changes\r\n",
                "    conn.commit()\r\n",
                "\r\n",
                "    # We can also close the connection if we are done with it.\r\n",
                "    # Just be sure any changes have been committed or they will be lost.\r\n",
                "    conn.close()\r\n",
                "\r\n",
                "\r\n",
                "def exec():\r\n",
                "    conn = sqlite3.connect(sqlitedb_path)\r\n",
                "\r\n",
                "    c = conn.cursor()\r\n",
                "\r\n",
                "    # Create table\r\n",
                "    c.execute('''CREATE TABLE stocks (date text, trans text, symbol text, qty real, price real)''')\r\n",
                "\r\n",
                "    # Insert a row of data\r\n",
                "    c.execute(\"INSERT INTO stocks VALUES ('2006-01-05','BUY','RHAT',100,35.14)\")\r\n",
                "\r\n",
                "    # Save (commit) the changes\r\n",
                "    conn.commit()\r\n",
                "\r\n",
                "    # We can also close the connection if we are done with it.\r\n",
                "    # Just be sure any changes have been committed or they will be lost.\r\n",
                "    conn.close()\r\n",
                ""
            ],
            "metadata": {
                "azdata_cell_guid": "9cd02731-fbd3-443a-b478-ac0208e6e63e"
            },
            "outputs": [],
            "execution_count": 6
        },
        {
            "cell_type": "code",
            "source": [
                "\r\n",
                "exec()"
            ],
            "metadata": {
                "azdata_cell_guid": "a328e02b-d7c2-47a6-8d74-78d0aeaba30c"
            },
            "outputs": [
                {
                    "output_type": "error",
                    "ename": "OperationalError",
                    "evalue": "table stocks already exists",
                    "traceback": [
                        "\u001b[1;31m---------------------------------------------------------------------------\u001b[0m",
                        "\u001b[1;31mOperationalError\u001b[0m                          Traceback (most recent call last)",
                        "\u001b[1;32m<ipython-input-7-b97c57496d75>\u001b[0m in \u001b[0;36m<module>\u001b[1;34m\u001b[0m\n\u001b[1;32m----> 1\u001b[1;33m \u001b[0mexec\u001b[0m\u001b[1;33m(\u001b[0m\u001b[1;33m)\u001b[0m\u001b[1;33m\u001b[0m\u001b[1;33m\u001b[0m\u001b[0m\n\u001b[0m",
                        "\u001b[1;32m<ipython-input-6-74cc766b632f>\u001b[0m in \u001b[0;36mexec\u001b[1;34m()\u001b[0m\n\u001b[0;32m      5\u001b[0m \u001b[1;33m\u001b[0m\u001b[0m\n\u001b[0;32m      6\u001b[0m     \u001b[1;31m# Create table\u001b[0m\u001b[1;33m\u001b[0m\u001b[1;33m\u001b[0m\u001b[1;33m\u001b[0m\u001b[0m\n\u001b[1;32m----> 7\u001b[1;33m     \u001b[0mc\u001b[0m\u001b[1;33m.\u001b[0m\u001b[0mexecute\u001b[0m\u001b[1;33m(\u001b[0m\u001b[1;34m'''CREATE TABLE stocks (date text, trans text, symbol text, qty real, price real)'''\u001b[0m\u001b[1;33m)\u001b[0m\u001b[1;33m\u001b[0m\u001b[1;33m\u001b[0m\u001b[0m\n\u001b[0m\u001b[0;32m      8\u001b[0m \u001b[1;33m\u001b[0m\u001b[0m\n\u001b[0;32m      9\u001b[0m     \u001b[1;31m# Insert a row of data\u001b[0m\u001b[1;33m\u001b[0m\u001b[1;33m\u001b[0m\u001b[1;33m\u001b[0m\u001b[0m\n",
                        "\u001b[1;31mOperationalError\u001b[0m: table stocks already exists"
                    ]
                }
            ],
            "execution_count": 7
        }
    ]
}